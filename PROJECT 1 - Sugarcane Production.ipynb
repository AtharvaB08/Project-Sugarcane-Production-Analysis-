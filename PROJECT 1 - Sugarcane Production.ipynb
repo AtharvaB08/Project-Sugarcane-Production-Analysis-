{
 "cells": [
  {
   "cell_type": "code",
   "execution_count": 56,
   "id": "ce52b2c7",
   "metadata": {},
   "outputs": [],
   "source": [
    "import pandas as pd\n",
    "import seaborn as sns\n",
    "from matplotlib import pyplot as plt"
   ]
  },
  {
   "cell_type": "code",
   "execution_count": 57,
   "id": "747bb64e",
   "metadata": {},
   "outputs": [],
   "source": [
    "df = pd.read_csv('List of Countries by Sugarcane Production.csv')"
   ]
  },
  {
   "cell_type": "code",
   "execution_count": 58,
   "id": "4d8ea51c",
   "metadata": {},
   "outputs": [
    {
     "data": {
      "text/html": [
       "<div>\n",
       "<style scoped>\n",
       "    .dataframe tbody tr th:only-of-type {\n",
       "        vertical-align: middle;\n",
       "    }\n",
       "\n",
       "    .dataframe tbody tr th {\n",
       "        vertical-align: top;\n",
       "    }\n",
       "\n",
       "    .dataframe thead th {\n",
       "        text-align: right;\n",
       "    }\n",
       "</style>\n",
       "<table border=\"1\" class=\"dataframe\">\n",
       "  <thead>\n",
       "    <tr style=\"text-align: right;\">\n",
       "      <th></th>\n",
       "      <th>Unnamed: 0</th>\n",
       "      <th>Country</th>\n",
       "      <th>Continent</th>\n",
       "      <th>Production (Tons)</th>\n",
       "      <th>Production per Person (Kg)</th>\n",
       "      <th>Acreage (Hectare)</th>\n",
       "      <th>Yield (Kg / Hectare)</th>\n",
       "    </tr>\n",
       "  </thead>\n",
       "  <tbody>\n",
       "    <tr>\n",
       "      <th>0</th>\n",
       "      <td>0</td>\n",
       "      <td>Brazil</td>\n",
       "      <td>South America</td>\n",
       "      <td>768.678.382</td>\n",
       "      <td>3.668,531</td>\n",
       "      <td>10.226.205</td>\n",
       "      <td>75.167,5</td>\n",
       "    </tr>\n",
       "    <tr>\n",
       "      <th>1</th>\n",
       "      <td>1</td>\n",
       "      <td>India</td>\n",
       "      <td>Asia</td>\n",
       "      <td>348.448.000</td>\n",
       "      <td>260721</td>\n",
       "      <td>4.950.000</td>\n",
       "      <td>70.393,5</td>\n",
       "    </tr>\n",
       "    <tr>\n",
       "      <th>2</th>\n",
       "      <td>2</td>\n",
       "      <td>China</td>\n",
       "      <td>Asia</td>\n",
       "      <td>123.059.739</td>\n",
       "      <td>88287</td>\n",
       "      <td>1.675.215</td>\n",
       "      <td>73.459,1</td>\n",
       "    </tr>\n",
       "    <tr>\n",
       "      <th>3</th>\n",
       "      <td>3</td>\n",
       "      <td>Thailand</td>\n",
       "      <td>Asia</td>\n",
       "      <td>87.468.496</td>\n",
       "      <td>1.264,303</td>\n",
       "      <td>1.336.575</td>\n",
       "      <td>65.442,2</td>\n",
       "    </tr>\n",
       "    <tr>\n",
       "      <th>4</th>\n",
       "      <td>4</td>\n",
       "      <td>Pakistan</td>\n",
       "      <td>Asia</td>\n",
       "      <td>65.450.704</td>\n",
       "      <td>324219</td>\n",
       "      <td>1.130.820</td>\n",
       "      <td>57.879</td>\n",
       "    </tr>\n",
       "  </tbody>\n",
       "</table>\n",
       "</div>"
      ],
      "text/plain": [
       "   Unnamed: 0   Country      Continent Production (Tons)  \\\n",
       "0           0    Brazil  South America       768.678.382   \n",
       "1           1     India           Asia       348.448.000   \n",
       "2           2     China           Asia       123.059.739   \n",
       "3           3  Thailand           Asia        87.468.496   \n",
       "4           4  Pakistan           Asia        65.450.704   \n",
       "\n",
       "  Production per Person (Kg) Acreage (Hectare) Yield (Kg / Hectare)  \n",
       "0                  3.668,531        10.226.205             75.167,5  \n",
       "1                     260721         4.950.000             70.393,5  \n",
       "2                      88287         1.675.215             73.459,1  \n",
       "3                  1.264,303         1.336.575             65.442,2  \n",
       "4                     324219         1.130.820               57.879  "
      ]
     },
     "execution_count": 58,
     "metadata": {},
     "output_type": "execute_result"
    }
   ],
   "source": [
    "df.head()"
   ]
  },
  {
   "cell_type": "code",
   "execution_count": 59,
   "id": "37866601",
   "metadata": {},
   "outputs": [
    {
     "data": {
      "text/plain": [
       "(103, 7)"
      ]
     },
     "execution_count": 59,
     "metadata": {},
     "output_type": "execute_result"
    }
   ],
   "source": [
    "df.shape"
   ]
  },
  {
   "cell_type": "code",
   "execution_count": null,
   "id": "ca2adcd3",
   "metadata": {},
   "outputs": [],
   "source": []
  },
  {
   "cell_type": "markdown",
   "id": "f8997e1d",
   "metadata": {},
   "source": [
    "## Data Cleaning"
   ]
  },
  {
   "cell_type": "code",
   "execution_count": 63,
   "id": "2c32efa0",
   "metadata": {},
   "outputs": [
    {
     "name": "stderr",
     "output_type": "stream",
     "text": [
      "C:\\Users\\hp\\AppData\\Local\\Temp/ipykernel_18276/313562689.py:1: FutureWarning: The default value of regex will change from True to False in a future version. In addition, single character regular expressions will *not* be treated as literal strings when regex=True.\n",
      "  df[\"Production (Tons)\"] = df[\"Production (Tons)\"].str.replace(\".\",\"\")\n",
      "C:\\Users\\hp\\AppData\\Local\\Temp/ipykernel_18276/313562689.py:2: FutureWarning: The default value of regex will change from True to False in a future version. In addition, single character regular expressions will *not* be treated as literal strings when regex=True.\n",
      "  df[\"Production per Person (Kg)\"] = df[\"Production per Person (Kg)\"].str.replace(\".\",\"\")\n",
      "C:\\Users\\hp\\AppData\\Local\\Temp/ipykernel_18276/313562689.py:4: FutureWarning: The default value of regex will change from True to False in a future version. In addition, single character regular expressions will *not* be treated as literal strings when regex=True.\n",
      "  df[\"Acreage (Hectare)\"] = df[\"Acreage (Hectare)\"].str.replace(\".\",\"\")\n",
      "C:\\Users\\hp\\AppData\\Local\\Temp/ipykernel_18276/313562689.py:5: FutureWarning: The default value of regex will change from True to False in a future version. In addition, single character regular expressions will *not* be treated as literal strings when regex=True.\n",
      "  df[\"Yield (Kg / Hectare)\"] = df[\"Yield (Kg / Hectare)\"].str.replace(\".\",\"\").str.replace(\",\",\".\")\n"
     ]
    }
   ],
   "source": [
    "df[\"Production (Tons)\"] = df[\"Production (Tons)\"].str.replace(\".\",\"\")\n",
    "df[\"Production per Person (Kg)\"] = df[\"Production per Person (Kg)\"].str.replace(\".\",\"\")\n",
    "df[\"Production per Person (Kg)\"] = df[\"Production per Person (Kg)\"].str.replace(\",\",\".\")\n",
    "df[\"Acreage (Hectare)\"] = df[\"Acreage (Hectare)\"].str.replace(\".\",\"\")\n",
    "df[\"Yield (Kg / Hectare)\"] = df[\"Yield (Kg / Hectare)\"].str.replace(\".\",\"\").str.replace(\",\",\".\")"
   ]
  },
  {
   "cell_type": "code",
   "execution_count": 64,
   "id": "fd161350",
   "metadata": {},
   "outputs": [
    {
     "data": {
      "text/html": [
       "<div>\n",
       "<style scoped>\n",
       "    .dataframe tbody tr th:only-of-type {\n",
       "        vertical-align: middle;\n",
       "    }\n",
       "\n",
       "    .dataframe tbody tr th {\n",
       "        vertical-align: top;\n",
       "    }\n",
       "\n",
       "    .dataframe thead th {\n",
       "        text-align: right;\n",
       "    }\n",
       "</style>\n",
       "<table border=\"1\" class=\"dataframe\">\n",
       "  <thead>\n",
       "    <tr style=\"text-align: right;\">\n",
       "      <th></th>\n",
       "      <th>Unnamed: 0</th>\n",
       "      <th>Country</th>\n",
       "      <th>Continent</th>\n",
       "      <th>Production (Tons)</th>\n",
       "      <th>Production per Person (Kg)</th>\n",
       "      <th>Acreage (Hectare)</th>\n",
       "      <th>Yield (Kg / Hectare)</th>\n",
       "    </tr>\n",
       "  </thead>\n",
       "  <tbody>\n",
       "    <tr>\n",
       "      <th>0</th>\n",
       "      <td>0</td>\n",
       "      <td>Brazil</td>\n",
       "      <td>South America</td>\n",
       "      <td>768678382</td>\n",
       "      <td>3668.531</td>\n",
       "      <td>10226205</td>\n",
       "      <td>751675</td>\n",
       "    </tr>\n",
       "    <tr>\n",
       "      <th>1</th>\n",
       "      <td>1</td>\n",
       "      <td>India</td>\n",
       "      <td>Asia</td>\n",
       "      <td>348448000</td>\n",
       "      <td>260721</td>\n",
       "      <td>4950000</td>\n",
       "      <td>703935</td>\n",
       "    </tr>\n",
       "    <tr>\n",
       "      <th>2</th>\n",
       "      <td>2</td>\n",
       "      <td>China</td>\n",
       "      <td>Asia</td>\n",
       "      <td>123059739</td>\n",
       "      <td>88287</td>\n",
       "      <td>1675215</td>\n",
       "      <td>734591</td>\n",
       "    </tr>\n",
       "    <tr>\n",
       "      <th>3</th>\n",
       "      <td>3</td>\n",
       "      <td>Thailand</td>\n",
       "      <td>Asia</td>\n",
       "      <td>87468496</td>\n",
       "      <td>1264.303</td>\n",
       "      <td>1336575</td>\n",
       "      <td>654422</td>\n",
       "    </tr>\n",
       "    <tr>\n",
       "      <th>4</th>\n",
       "      <td>4</td>\n",
       "      <td>Pakistan</td>\n",
       "      <td>Asia</td>\n",
       "      <td>65450704</td>\n",
       "      <td>324219</td>\n",
       "      <td>1130820</td>\n",
       "      <td>57879</td>\n",
       "    </tr>\n",
       "  </tbody>\n",
       "</table>\n",
       "</div>"
      ],
      "text/plain": [
       "   Unnamed: 0   Country      Continent Production (Tons)  \\\n",
       "0           0    Brazil  South America         768678382   \n",
       "1           1     India           Asia         348448000   \n",
       "2           2     China           Asia         123059739   \n",
       "3           3  Thailand           Asia          87468496   \n",
       "4           4  Pakistan           Asia          65450704   \n",
       "\n",
       "  Production per Person (Kg) Acreage (Hectare) Yield (Kg / Hectare)  \n",
       "0                   3668.531          10226205               751675  \n",
       "1                     260721           4950000               703935  \n",
       "2                      88287           1675215               734591  \n",
       "3                   1264.303           1336575               654422  \n",
       "4                     324219           1130820                57879  "
      ]
     },
     "execution_count": 64,
     "metadata": {},
     "output_type": "execute_result"
    }
   ],
   "source": [
    "df.head()"
   ]
  },
  {
   "cell_type": "code",
   "execution_count": 65,
   "id": "5359a81f",
   "metadata": {},
   "outputs": [],
   "source": [
    "df.rename(columns= {\"Production (Tons)\": \"Production(Tons)\"}, inplace = True)\n",
    "df.rename(columns= {\"Prouction per Person (Kg)\": \"Prouction per Person (Kg)\"}, inplace = True)\n",
    "df.rename(columns= {\"Acreage (Hectare)\": \"Acreage (Hectare)\"}, inplace = True)\n",
    "df.rename(columns= {\"Yield (Kg / Hectare)\": \"Yield (Kg / Hectare)\"}, inplace = True)"
   ]
  },
  {
   "cell_type": "code",
   "execution_count": 66,
   "id": "4c80c84d",
   "metadata": {},
   "outputs": [
    {
     "data": {
      "text/html": [
       "<div>\n",
       "<style scoped>\n",
       "    .dataframe tbody tr th:only-of-type {\n",
       "        vertical-align: middle;\n",
       "    }\n",
       "\n",
       "    .dataframe tbody tr th {\n",
       "        vertical-align: top;\n",
       "    }\n",
       "\n",
       "    .dataframe thead th {\n",
       "        text-align: right;\n",
       "    }\n",
       "</style>\n",
       "<table border=\"1\" class=\"dataframe\">\n",
       "  <thead>\n",
       "    <tr style=\"text-align: right;\">\n",
       "      <th></th>\n",
       "      <th>Unnamed: 0</th>\n",
       "      <th>Country</th>\n",
       "      <th>Continent</th>\n",
       "      <th>Production(Tons)</th>\n",
       "      <th>Production per Person (Kg)</th>\n",
       "      <th>Acreage (Hectare)</th>\n",
       "      <th>Yield (Kg / Hectare)</th>\n",
       "    </tr>\n",
       "  </thead>\n",
       "  <tbody>\n",
       "    <tr>\n",
       "      <th>0</th>\n",
       "      <td>0</td>\n",
       "      <td>Brazil</td>\n",
       "      <td>South America</td>\n",
       "      <td>768678382</td>\n",
       "      <td>3668.531</td>\n",
       "      <td>10226205</td>\n",
       "      <td>751675</td>\n",
       "    </tr>\n",
       "    <tr>\n",
       "      <th>1</th>\n",
       "      <td>1</td>\n",
       "      <td>India</td>\n",
       "      <td>Asia</td>\n",
       "      <td>348448000</td>\n",
       "      <td>260721</td>\n",
       "      <td>4950000</td>\n",
       "      <td>703935</td>\n",
       "    </tr>\n",
       "    <tr>\n",
       "      <th>2</th>\n",
       "      <td>2</td>\n",
       "      <td>China</td>\n",
       "      <td>Asia</td>\n",
       "      <td>123059739</td>\n",
       "      <td>88287</td>\n",
       "      <td>1675215</td>\n",
       "      <td>734591</td>\n",
       "    </tr>\n",
       "    <tr>\n",
       "      <th>3</th>\n",
       "      <td>3</td>\n",
       "      <td>Thailand</td>\n",
       "      <td>Asia</td>\n",
       "      <td>87468496</td>\n",
       "      <td>1264.303</td>\n",
       "      <td>1336575</td>\n",
       "      <td>654422</td>\n",
       "    </tr>\n",
       "    <tr>\n",
       "      <th>4</th>\n",
       "      <td>4</td>\n",
       "      <td>Pakistan</td>\n",
       "      <td>Asia</td>\n",
       "      <td>65450704</td>\n",
       "      <td>324219</td>\n",
       "      <td>1130820</td>\n",
       "      <td>57879</td>\n",
       "    </tr>\n",
       "  </tbody>\n",
       "</table>\n",
       "</div>"
      ],
      "text/plain": [
       "   Unnamed: 0   Country      Continent Production(Tons)  \\\n",
       "0           0    Brazil  South America        768678382   \n",
       "1           1     India           Asia        348448000   \n",
       "2           2     China           Asia        123059739   \n",
       "3           3  Thailand           Asia         87468496   \n",
       "4           4  Pakistan           Asia         65450704   \n",
       "\n",
       "  Production per Person (Kg) Acreage (Hectare) Yield (Kg / Hectare)  \n",
       "0                   3668.531          10226205               751675  \n",
       "1                     260721           4950000               703935  \n",
       "2                      88287           1675215               734591  \n",
       "3                   1264.303           1336575               654422  \n",
       "4                     324219           1130820                57879  "
      ]
     },
     "execution_count": 66,
     "metadata": {},
     "output_type": "execute_result"
    }
   ],
   "source": [
    "df.head()"
   ]
  },
  {
   "cell_type": "code",
   "execution_count": 67,
   "id": "3a8090ba",
   "metadata": {},
   "outputs": [
    {
     "data": {
      "text/plain": [
       "Unnamed: 0                    0\n",
       "Country                       0\n",
       "Continent                     0\n",
       "Production(Tons)              0\n",
       "Production per Person (Kg)    0\n",
       "Acreage (Hectare)             1\n",
       "Yield (Kg / Hectare)          1\n",
       "dtype: int64"
      ]
     },
     "execution_count": 67,
     "metadata": {},
     "output_type": "execute_result"
    }
   ],
   "source": [
    "df.isna().sum()"
   ]
  },
  {
   "cell_type": "code",
   "execution_count": 68,
   "id": "6d2ca198",
   "metadata": {},
   "outputs": [
    {
     "data": {
      "text/html": [
       "<div>\n",
       "<style scoped>\n",
       "    .dataframe tbody tr th:only-of-type {\n",
       "        vertical-align: middle;\n",
       "    }\n",
       "\n",
       "    .dataframe tbody tr th {\n",
       "        vertical-align: top;\n",
       "    }\n",
       "\n",
       "    .dataframe thead th {\n",
       "        text-align: right;\n",
       "    }\n",
       "</style>\n",
       "<table border=\"1\" class=\"dataframe\">\n",
       "  <thead>\n",
       "    <tr style=\"text-align: right;\">\n",
       "      <th></th>\n",
       "      <th>Unnamed: 0</th>\n",
       "      <th>Country</th>\n",
       "      <th>Continent</th>\n",
       "      <th>Production(Tons)</th>\n",
       "      <th>Production per Person (Kg)</th>\n",
       "      <th>Acreage (Hectare)</th>\n",
       "      <th>Yield (Kg / Hectare)</th>\n",
       "    </tr>\n",
       "  </thead>\n",
       "  <tbody>\n",
       "    <tr>\n",
       "      <th>99</th>\n",
       "      <td>99</td>\n",
       "      <td>Djibouti</td>\n",
       "      <td>Africa</td>\n",
       "      <td>53</td>\n",
       "      <td>51</td>\n",
       "      <td>NaN</td>\n",
       "      <td>NaN</td>\n",
       "    </tr>\n",
       "  </tbody>\n",
       "</table>\n",
       "</div>"
      ],
      "text/plain": [
       "    Unnamed: 0   Country Continent Production(Tons)  \\\n",
       "99          99  Djibouti    Africa               53   \n",
       "\n",
       "   Production per Person (Kg) Acreage (Hectare) Yield (Kg / Hectare)  \n",
       "99                         51               NaN                  NaN  "
      ]
     },
     "execution_count": 68,
     "metadata": {},
     "output_type": "execute_result"
    }
   ],
   "source": [
    "df[df['Acreage (Hectare)'].isnull()]"
   ]
  },
  {
   "cell_type": "code",
   "execution_count": 69,
   "id": "70802d55",
   "metadata": {},
   "outputs": [],
   "source": [
    "df = df.dropna().reset_index()"
   ]
  },
  {
   "cell_type": "code",
   "execution_count": 70,
   "id": "fd826643",
   "metadata": {},
   "outputs": [
    {
     "data": {
      "text/html": [
       "<div>\n",
       "<style scoped>\n",
       "    .dataframe tbody tr th:only-of-type {\n",
       "        vertical-align: middle;\n",
       "    }\n",
       "\n",
       "    .dataframe tbody tr th {\n",
       "        vertical-align: top;\n",
       "    }\n",
       "\n",
       "    .dataframe thead th {\n",
       "        text-align: right;\n",
       "    }\n",
       "</style>\n",
       "<table border=\"1\" class=\"dataframe\">\n",
       "  <thead>\n",
       "    <tr style=\"text-align: right;\">\n",
       "      <th></th>\n",
       "      <th>index</th>\n",
       "      <th>Unnamed: 0</th>\n",
       "      <th>Country</th>\n",
       "      <th>Continent</th>\n",
       "      <th>Production(Tons)</th>\n",
       "      <th>Production per Person (Kg)</th>\n",
       "      <th>Acreage (Hectare)</th>\n",
       "      <th>Yield (Kg / Hectare)</th>\n",
       "    </tr>\n",
       "  </thead>\n",
       "  <tbody>\n",
       "    <tr>\n",
       "      <th>0</th>\n",
       "      <td>0</td>\n",
       "      <td>0</td>\n",
       "      <td>Brazil</td>\n",
       "      <td>South America</td>\n",
       "      <td>768678382</td>\n",
       "      <td>3668.531</td>\n",
       "      <td>10226205</td>\n",
       "      <td>751675</td>\n",
       "    </tr>\n",
       "    <tr>\n",
       "      <th>1</th>\n",
       "      <td>1</td>\n",
       "      <td>1</td>\n",
       "      <td>India</td>\n",
       "      <td>Asia</td>\n",
       "      <td>348448000</td>\n",
       "      <td>260721</td>\n",
       "      <td>4950000</td>\n",
       "      <td>703935</td>\n",
       "    </tr>\n",
       "    <tr>\n",
       "      <th>2</th>\n",
       "      <td>2</td>\n",
       "      <td>2</td>\n",
       "      <td>China</td>\n",
       "      <td>Asia</td>\n",
       "      <td>123059739</td>\n",
       "      <td>88287</td>\n",
       "      <td>1675215</td>\n",
       "      <td>734591</td>\n",
       "    </tr>\n",
       "    <tr>\n",
       "      <th>3</th>\n",
       "      <td>3</td>\n",
       "      <td>3</td>\n",
       "      <td>Thailand</td>\n",
       "      <td>Asia</td>\n",
       "      <td>87468496</td>\n",
       "      <td>1264.303</td>\n",
       "      <td>1336575</td>\n",
       "      <td>654422</td>\n",
       "    </tr>\n",
       "    <tr>\n",
       "      <th>4</th>\n",
       "      <td>4</td>\n",
       "      <td>4</td>\n",
       "      <td>Pakistan</td>\n",
       "      <td>Asia</td>\n",
       "      <td>65450704</td>\n",
       "      <td>324219</td>\n",
       "      <td>1130820</td>\n",
       "      <td>57879</td>\n",
       "    </tr>\n",
       "    <tr>\n",
       "      <th>...</th>\n",
       "      <td>...</td>\n",
       "      <td>...</td>\n",
       "      <td>...</td>\n",
       "      <td>...</td>\n",
       "      <td>...</td>\n",
       "      <td>...</td>\n",
       "      <td>...</td>\n",
       "      <td>...</td>\n",
       "    </tr>\n",
       "    <tr>\n",
       "      <th>97</th>\n",
       "      <td>97</td>\n",
       "      <td>97</td>\n",
       "      <td>Spain</td>\n",
       "      <td>Europe</td>\n",
       "      <td>394</td>\n",
       "      <td>8</td>\n",
       "      <td>9</td>\n",
       "      <td>435965</td>\n",
       "    </tr>\n",
       "    <tr>\n",
       "      <th>98</th>\n",
       "      <td>98</td>\n",
       "      <td>98</td>\n",
       "      <td>Lebanon</td>\n",
       "      <td>Asia</td>\n",
       "      <td>97</td>\n",
       "      <td>16</td>\n",
       "      <td>3</td>\n",
       "      <td>283864</td>\n",
       "    </tr>\n",
       "    <tr>\n",
       "      <th>99</th>\n",
       "      <td>100</td>\n",
       "      <td>100</td>\n",
       "      <td>Singapore</td>\n",
       "      <td>Asia</td>\n",
       "      <td>50</td>\n",
       "      <td>9</td>\n",
       "      <td>2</td>\n",
       "      <td>25</td>\n",
       "    </tr>\n",
       "    <tr>\n",
       "      <th>100</th>\n",
       "      <td>101</td>\n",
       "      <td>101</td>\n",
       "      <td>Samoa</td>\n",
       "      <td>Oceania</td>\n",
       "      <td>12</td>\n",
       "      <td>6</td>\n",
       "      <td>1</td>\n",
       "      <td>119498</td>\n",
       "    </tr>\n",
       "    <tr>\n",
       "      <th>101</th>\n",
       "      <td>102</td>\n",
       "      <td>102</td>\n",
       "      <td>Syria</td>\n",
       "      <td>Asia</td>\n",
       "      <td>1</td>\n",
       "      <td>0</td>\n",
       "      <td>0</td>\n",
       "      <td>830342</td>\n",
       "    </tr>\n",
       "  </tbody>\n",
       "</table>\n",
       "<p>102 rows × 8 columns</p>\n",
       "</div>"
      ],
      "text/plain": [
       "     index  Unnamed: 0    Country      Continent Production(Tons)  \\\n",
       "0        0           0     Brazil  South America        768678382   \n",
       "1        1           1      India           Asia        348448000   \n",
       "2        2           2      China           Asia        123059739   \n",
       "3        3           3   Thailand           Asia         87468496   \n",
       "4        4           4   Pakistan           Asia         65450704   \n",
       "..     ...         ...        ...            ...              ...   \n",
       "97      97          97      Spain         Europe              394   \n",
       "98      98          98    Lebanon           Asia               97   \n",
       "99     100         100  Singapore           Asia               50   \n",
       "100    101         101      Samoa        Oceania               12   \n",
       "101    102         102      Syria           Asia                1   \n",
       "\n",
       "    Production per Person (Kg) Acreage (Hectare) Yield (Kg / Hectare)  \n",
       "0                     3668.531          10226205               751675  \n",
       "1                       260721           4950000               703935  \n",
       "2                        88287           1675215               734591  \n",
       "3                     1264.303           1336575               654422  \n",
       "4                       324219           1130820                57879  \n",
       "..                         ...               ...                  ...  \n",
       "97                           8                 9               435965  \n",
       "98                          16                 3               283864  \n",
       "99                           9                 2                   25  \n",
       "100                          6                 1               119498  \n",
       "101                          0                 0               830342  \n",
       "\n",
       "[102 rows x 8 columns]"
      ]
     },
     "execution_count": 70,
     "metadata": {},
     "output_type": "execute_result"
    }
   ],
   "source": [
    "df"
   ]
  },
  {
   "cell_type": "code",
   "execution_count": 71,
   "id": "29105806",
   "metadata": {},
   "outputs": [],
   "source": [
    "df.drop([\"index\",\"Unnamed: 0\"], axis = 1, inplace= True)"
   ]
  },
  {
   "cell_type": "code",
   "execution_count": 72,
   "id": "fd9d6ef8",
   "metadata": {},
   "outputs": [
    {
     "data": {
      "text/html": [
       "<div>\n",
       "<style scoped>\n",
       "    .dataframe tbody tr th:only-of-type {\n",
       "        vertical-align: middle;\n",
       "    }\n",
       "\n",
       "    .dataframe tbody tr th {\n",
       "        vertical-align: top;\n",
       "    }\n",
       "\n",
       "    .dataframe thead th {\n",
       "        text-align: right;\n",
       "    }\n",
       "</style>\n",
       "<table border=\"1\" class=\"dataframe\">\n",
       "  <thead>\n",
       "    <tr style=\"text-align: right;\">\n",
       "      <th></th>\n",
       "      <th>Country</th>\n",
       "      <th>Continent</th>\n",
       "      <th>Production(Tons)</th>\n",
       "      <th>Production per Person (Kg)</th>\n",
       "      <th>Acreage (Hectare)</th>\n",
       "      <th>Yield (Kg / Hectare)</th>\n",
       "    </tr>\n",
       "  </thead>\n",
       "  <tbody>\n",
       "    <tr>\n",
       "      <th>0</th>\n",
       "      <td>Brazil</td>\n",
       "      <td>South America</td>\n",
       "      <td>768678382</td>\n",
       "      <td>3668.531</td>\n",
       "      <td>10226205</td>\n",
       "      <td>751675</td>\n",
       "    </tr>\n",
       "    <tr>\n",
       "      <th>1</th>\n",
       "      <td>India</td>\n",
       "      <td>Asia</td>\n",
       "      <td>348448000</td>\n",
       "      <td>260721</td>\n",
       "      <td>4950000</td>\n",
       "      <td>703935</td>\n",
       "    </tr>\n",
       "    <tr>\n",
       "      <th>2</th>\n",
       "      <td>China</td>\n",
       "      <td>Asia</td>\n",
       "      <td>123059739</td>\n",
       "      <td>88287</td>\n",
       "      <td>1675215</td>\n",
       "      <td>734591</td>\n",
       "    </tr>\n",
       "    <tr>\n",
       "      <th>3</th>\n",
       "      <td>Thailand</td>\n",
       "      <td>Asia</td>\n",
       "      <td>87468496</td>\n",
       "      <td>1264.303</td>\n",
       "      <td>1336575</td>\n",
       "      <td>654422</td>\n",
       "    </tr>\n",
       "    <tr>\n",
       "      <th>4</th>\n",
       "      <td>Pakistan</td>\n",
       "      <td>Asia</td>\n",
       "      <td>65450704</td>\n",
       "      <td>324219</td>\n",
       "      <td>1130820</td>\n",
       "      <td>57879</td>\n",
       "    </tr>\n",
       "  </tbody>\n",
       "</table>\n",
       "</div>"
      ],
      "text/plain": [
       "    Country      Continent Production(Tons) Production per Person (Kg)  \\\n",
       "0    Brazil  South America        768678382                   3668.531   \n",
       "1     India           Asia        348448000                     260721   \n",
       "2     China           Asia        123059739                      88287   \n",
       "3  Thailand           Asia         87468496                   1264.303   \n",
       "4  Pakistan           Asia         65450704                     324219   \n",
       "\n",
       "  Acreage (Hectare) Yield (Kg / Hectare)  \n",
       "0          10226205               751675  \n",
       "1           4950000               703935  \n",
       "2           1675215               734591  \n",
       "3           1336575               654422  \n",
       "4           1130820                57879  "
      ]
     },
     "execution_count": 72,
     "metadata": {},
     "output_type": "execute_result"
    }
   ],
   "source": [
    "df.head()"
   ]
  },
  {
   "cell_type": "code",
   "execution_count": 73,
   "id": "3754f8a6",
   "metadata": {},
   "outputs": [
    {
     "data": {
      "text/plain": [
       "Country                       object\n",
       "Continent                     object\n",
       "Production(Tons)              object\n",
       "Production per Person (Kg)    object\n",
       "Acreage (Hectare)             object\n",
       "Yield (Kg / Hectare)          object\n",
       "dtype: object"
      ]
     },
     "execution_count": 73,
     "metadata": {},
     "output_type": "execute_result"
    }
   ],
   "source": [
    "df.dtypes"
   ]
  },
  {
   "cell_type": "code",
   "execution_count": 74,
   "id": "0e1c2981",
   "metadata": {},
   "outputs": [
    {
     "data": {
      "text/plain": [
       "str"
      ]
     },
     "execution_count": 74,
     "metadata": {},
     "output_type": "execute_result"
    }
   ],
   "source": [
    "type(df[\"Production per Person (Kg)\"][0])"
   ]
  },
  {
   "cell_type": "code",
   "execution_count": 75,
   "id": "ce93d84d",
   "metadata": {},
   "outputs": [
    {
     "data": {
      "text/plain": [
       "dtype('O')"
      ]
     },
     "execution_count": 75,
     "metadata": {},
     "output_type": "execute_result"
    }
   ],
   "source": [
    "df['Production per Person (Kg)'].dtype"
   ]
  },
  {
   "cell_type": "code",
   "execution_count": 77,
   "id": "edf5524c",
   "metadata": {},
   "outputs": [],
   "source": [
    "df[\"Production(Tons)\"] = df[\"Production(Tons)\"].astype(float)\n",
    "df[\"Production per Person (Kg)\"] = df[\"Production per Person (Kg)\"].astype(float)\n",
    "df[\"Acreage (Hectare)\"] = df[\"Acreage (Hectare)\"].astype(float)\n",
    "df[\"Yield (Kg / Hectare)\"] = df[\"Yield (Kg / Hectare)\"].astype(float)"
   ]
  },
  {
   "cell_type": "code",
   "execution_count": 78,
   "id": "41c1881a",
   "metadata": {},
   "outputs": [
    {
     "data": {
      "text/plain": [
       "Country                        object\n",
       "Continent                      object\n",
       "Production(Tons)              float64\n",
       "Production per Person (Kg)    float64\n",
       "Acreage (Hectare)             float64\n",
       "Yield (Kg / Hectare)          float64\n",
       "dtype: object"
      ]
     },
     "execution_count": 78,
     "metadata": {},
     "output_type": "execute_result"
    }
   ],
   "source": [
    "df.dtypes"
   ]
  },
  {
   "cell_type": "code",
   "execution_count": 79,
   "id": "35bb2bdc",
   "metadata": {},
   "outputs": [
    {
     "data": {
      "text/plain": [
       "Country                       102\n",
       "Continent                       6\n",
       "Production(Tons)              102\n",
       "Production per Person (Kg)    101\n",
       "Acreage (Hectare)             101\n",
       "Yield (Kg / Hectare)          102\n",
       "dtype: int64"
      ]
     },
     "execution_count": 79,
     "metadata": {},
     "output_type": "execute_result"
    }
   ],
   "source": [
    "df.nunique()"
   ]
  },
  {
   "cell_type": "code",
   "execution_count": null,
   "id": "f3bca8c9",
   "metadata": {},
   "outputs": [],
   "source": []
  },
  {
   "cell_type": "markdown",
   "id": "b5c52408",
   "metadata": {},
   "source": [
    "## Univariate Analysis"
   ]
  },
  {
   "cell_type": "code",
   "execution_count": 80,
   "id": "18125650",
   "metadata": {},
   "outputs": [
    {
     "data": {
      "text/html": [
       "<div>\n",
       "<style scoped>\n",
       "    .dataframe tbody tr th:only-of-type {\n",
       "        vertical-align: middle;\n",
       "    }\n",
       "\n",
       "    .dataframe tbody tr th {\n",
       "        vertical-align: top;\n",
       "    }\n",
       "\n",
       "    .dataframe thead th {\n",
       "        text-align: right;\n",
       "    }\n",
       "</style>\n",
       "<table border=\"1\" class=\"dataframe\">\n",
       "  <thead>\n",
       "    <tr style=\"text-align: right;\">\n",
       "      <th></th>\n",
       "      <th>Country</th>\n",
       "      <th>Continent</th>\n",
       "      <th>Production(Tons)</th>\n",
       "      <th>Production per Person (Kg)</th>\n",
       "      <th>Acreage (Hectare)</th>\n",
       "      <th>Yield (Kg / Hectare)</th>\n",
       "    </tr>\n",
       "  </thead>\n",
       "  <tbody>\n",
       "    <tr>\n",
       "      <th>0</th>\n",
       "      <td>Brazil</td>\n",
       "      <td>South America</td>\n",
       "      <td>768678382.0</td>\n",
       "      <td>3668.531</td>\n",
       "      <td>10226205.0</td>\n",
       "      <td>751675.0</td>\n",
       "    </tr>\n",
       "    <tr>\n",
       "      <th>1</th>\n",
       "      <td>India</td>\n",
       "      <td>Asia</td>\n",
       "      <td>348448000.0</td>\n",
       "      <td>260721.000</td>\n",
       "      <td>4950000.0</td>\n",
       "      <td>703935.0</td>\n",
       "    </tr>\n",
       "    <tr>\n",
       "      <th>2</th>\n",
       "      <td>China</td>\n",
       "      <td>Asia</td>\n",
       "      <td>123059739.0</td>\n",
       "      <td>88287.000</td>\n",
       "      <td>1675215.0</td>\n",
       "      <td>734591.0</td>\n",
       "    </tr>\n",
       "    <tr>\n",
       "      <th>3</th>\n",
       "      <td>Thailand</td>\n",
       "      <td>Asia</td>\n",
       "      <td>87468496.0</td>\n",
       "      <td>1264.303</td>\n",
       "      <td>1336575.0</td>\n",
       "      <td>654422.0</td>\n",
       "    </tr>\n",
       "    <tr>\n",
       "      <th>4</th>\n",
       "      <td>Pakistan</td>\n",
       "      <td>Asia</td>\n",
       "      <td>65450704.0</td>\n",
       "      <td>324219.000</td>\n",
       "      <td>1130820.0</td>\n",
       "      <td>57879.0</td>\n",
       "    </tr>\n",
       "  </tbody>\n",
       "</table>\n",
       "</div>"
      ],
      "text/plain": [
       "    Country      Continent  Production(Tons)  Production per Person (Kg)  \\\n",
       "0    Brazil  South America       768678382.0                    3668.531   \n",
       "1     India           Asia       348448000.0                  260721.000   \n",
       "2     China           Asia       123059739.0                   88287.000   \n",
       "3  Thailand           Asia        87468496.0                    1264.303   \n",
       "4  Pakistan           Asia        65450704.0                  324219.000   \n",
       "\n",
       "   Acreage (Hectare)  Yield (Kg / Hectare)  \n",
       "0         10226205.0              751675.0  \n",
       "1          4950000.0              703935.0  \n",
       "2          1675215.0              734591.0  \n",
       "3          1336575.0              654422.0  \n",
       "4          1130820.0               57879.0  "
      ]
     },
     "execution_count": 80,
     "metadata": {},
     "output_type": "execute_result"
    }
   ],
   "source": [
    "df.head()"
   ]
  },
  {
   "cell_type": "code",
   "execution_count": null,
   "id": "70631a42",
   "metadata": {},
   "outputs": [],
   "source": []
  },
  {
   "cell_type": "markdown",
   "id": "2bf9cedf",
   "metadata": {},
   "source": [
    "### How many countries produce sugarcane from each continent?"
   ]
  },
  {
   "cell_type": "code",
   "execution_count": 82,
   "id": "55bc6614",
   "metadata": {},
   "outputs": [
    {
     "data": {
      "text/plain": [
       "Africa           38\n",
       "Asia             25\n",
       "North America    22\n",
       "South America    11\n",
       "Oceania           4\n",
       "Europe            2\n",
       "Name: Continent, dtype: int64"
      ]
     },
     "execution_count": 82,
     "metadata": {},
     "output_type": "execute_result"
    }
   ],
   "source": [
    "df[\"Continent\"].value_counts()"
   ]
  },
  {
   "cell_type": "code",
   "execution_count": 83,
   "id": "4b63cf0e",
   "metadata": {
    "scrolled": true
   },
   "outputs": [
    {
     "data": {
      "text/plain": [
       "<AxesSubplot:>"
      ]
     },
     "execution_count": 83,
     "metadata": {},
     "output_type": "execute_result"
    },
    {
     "data": {
      "image/png": "[encoded data removed]",
      "text/plain": [
       "<Figure size 432x288 with 1 Axes>"
      ]
     },
     "metadata": {
      "needs_background": "light"
     },
     "output_type": "display_data"
    }
   ],
   "source": [
    "df[\"Continent\"].value_counts().plot(kind= 'bar')"
   ]
  },
  {
   "cell_type": "code",
   "execution_count": 87,
   "id": "d88c3e40",
   "metadata": {},
   "outputs": [
    {
     "name": "stderr",
     "output_type": "stream",
     "text": [
      "C:\\Users\\hp\\anaconda3\\lib\\site-packages\\seaborn\\distributions.py:2619: FutureWarning: `distplot` is a deprecated function and will be removed in a future version. Please adapt your code to use either `displot` (a figure-level function with similar flexibility) or `histplot` (an axes-level function for histograms).\n",
      "  warnings.warn(msg, FutureWarning)\n",
      "C:\\Users\\hp\\anaconda3\\lib\\site-packages\\seaborn\\distributions.py:2619: FutureWarning: `distplot` is a deprecated function and will be removed in a future version. Please adapt your code to use either `displot` (a figure-level function with similar flexibility) or `histplot` (an axes-level function for histograms).\n",
      "  warnings.warn(msg, FutureWarning)\n",
      "C:\\Users\\hp\\anaconda3\\lib\\site-packages\\seaborn\\distributions.py:2619: FutureWarning: `distplot` is a deprecated function and will be removed in a future version. Please adapt your code to use either `displot` (a figure-level function with similar flexibility) or `histplot` (an axes-level function for histograms).\n",
      "  warnings.warn(msg, FutureWarning)\n"
     ]
    },
    {
     "data": {
      "text/plain": [
       "<seaborn.axisgrid.FacetGrid at 0x1f649376c70>"
      ]
     },
     "execution_count": 87,
     "metadata": {},
     "output_type": "execute_result"
    },
    {
     "data": {
      "image/png": "[encoded data removed]",
      "text/plain": [
       "<Figure size 720x720 with 4 Axes>"
      ]
     },
     "metadata": {
      "needs_background": "light"
     },
     "output_type": "display_data"
    },
    {
     "data": {
      "image/png": "[encoded data removed]",
      "text/plain": [
       "<Figure size 360x360 with 1 Axes>"
      ]
     },
     "metadata": {
      "needs_background": "light"
     },
     "output_type": "display_data"
    }
   ],
   "source": [
    "plt.figure(figsize=(10,10))\n",
    "plt.subplot(2,2,1)\n",
    "sns.distplot(df[\"Production(Tons)\"])\n",
    "plt.subplot(2,2,2)\n",
    "sns.distplot(df[\"Production per Person (Kg)\"])\n",
    "plt.subplot(2,2,3)\n",
    "sns.distplot(df[\"Yield (Kg / Hectare)\"])\n",
    "plt.subplot(2,2,4)\n",
    "sns.displot(df[\"Acreage (Hectare)\"])"
   ]
  },
  {
   "cell_type": "markdown",
   "id": "65515eb9",
   "metadata": {},
   "source": [
    "## Checking Outliers"
   ]
  },
  {
   "cell_type": "markdown",
   "id": "9320bacf",
   "metadata": {},
   "source": [
    "#### In analysis we cannot remove outliers as we want the Highest number of which country is producing more"
   ]
  },
  {
   "cell_type": "code",
   "execution_count": 89,
   "id": "11ebfe72",
   "metadata": {},
   "outputs": [
    {
     "name": "stderr",
     "output_type": "stream",
     "text": [
      "C:\\Users\\hp\\anaconda3\\lib\\site-packages\\seaborn\\_decorators.py:36: FutureWarning: Pass the following variable as a keyword arg: x. From version 0.12, the only valid positional argument will be `data`, and passing other arguments without an explicit keyword will result in an error or misinterpretation.\n",
      "  warnings.warn(\n",
      "C:\\Users\\hp\\anaconda3\\lib\\site-packages\\seaborn\\_decorators.py:36: FutureWarning: Pass the following variable as a keyword arg: x. From version 0.12, the only valid positional argument will be `data`, and passing other arguments without an explicit keyword will result in an error or misinterpretation.\n",
      "  warnings.warn(\n",
      "C:\\Users\\hp\\anaconda3\\lib\\site-packages\\seaborn\\_decorators.py:36: FutureWarning: Pass the following variable as a keyword arg: x. From version 0.12, the only valid positional argument will be `data`, and passing other arguments without an explicit keyword will result in an error or misinterpretation.\n",
      "  warnings.warn(\n",
      "C:\\Users\\hp\\anaconda3\\lib\\site-packages\\seaborn\\_decorators.py:36: FutureWarning: Pass the following variable as a keyword arg: x. From version 0.12, the only valid positional argument will be `data`, and passing other arguments without an explicit keyword will result in an error or misinterpretation.\n",
      "  warnings.warn(\n"
     ]
    },
    {
     "data": {
      "text/plain": [
       "<AxesSubplot:xlabel='Acreage (Hectare)'>"
      ]
     },
     "execution_count": 89,
     "metadata": {},
     "output_type": "execute_result"
    },
    {
     "data": {
      "image/png": "[encoded data removed]",
      "text/plain": [
       "<Figure size 720x720 with 4 Axes>"
      ]
     },
     "metadata": {
      "needs_background": "light"
     },
     "output_type": "display_data"
    }
   ],
   "source": [
    "plt.figure(figsize=(10,10))\n",
    "plt.subplot(2,2,1)\n",
    "sns.boxplot(df[\"Production(Tons)\"])\n",
    "plt.subplot(2,2,2)\n",
    "sns.boxplot(df[\"Production per Person (Kg)\"])\n",
    "plt.subplot(2,2,3)\n",
    "sns.boxplot(df[\"Yield (Kg / Hectare)\"])\n",
    "plt.subplot(2,2,4)\n",
    "sns.boxplot(df[\"Acreage (Hectare)\"])"
   ]
  },
  {
   "cell_type": "markdown",
   "id": "7ec3f671",
   "metadata": {},
   "source": [
    "### Distribution of columns"
   ]
  },
  {
   "cell_type": "code",
   "execution_count": 91,
   "id": "793b9206",
   "metadata": {},
   "outputs": [
    {
     "data": {
      "text/html": [
       "<div>\n",
       "<style scoped>\n",
       "    .dataframe tbody tr th:only-of-type {\n",
       "        vertical-align: middle;\n",
       "    }\n",
       "\n",
       "    .dataframe tbody tr th {\n",
       "        vertical-align: top;\n",
       "    }\n",
       "\n",
       "    .dataframe thead th {\n",
       "        text-align: right;\n",
       "    }\n",
       "</style>\n",
       "<table border=\"1\" class=\"dataframe\">\n",
       "  <thead>\n",
       "    <tr style=\"text-align: right;\">\n",
       "      <th></th>\n",
       "      <th>Production(Tons)</th>\n",
       "      <th>Production per Person (Kg)</th>\n",
       "      <th>Acreage (Hectare)</th>\n",
       "      <th>Yield (Kg / Hectare)</th>\n",
       "    </tr>\n",
       "  </thead>\n",
       "  <tbody>\n",
       "    <tr>\n",
       "      <th>count</th>\n",
       "      <td>1.020000e+02</td>\n",
       "      <td>102.000000</td>\n",
       "      <td>1.020000e+02</td>\n",
       "      <td>1.020000e+02</td>\n",
       "    </tr>\n",
       "    <tr>\n",
       "      <th>mean</th>\n",
       "      <td>1.850372e+07</td>\n",
       "      <td>112952.435755</td>\n",
       "      <td>2.498981e+05</td>\n",
       "      <td>5.018502e+05</td>\n",
       "    </tr>\n",
       "    <tr>\n",
       "      <th>std</th>\n",
       "      <td>8.419149e+07</td>\n",
       "      <td>176651.341929</td>\n",
       "      <td>1.137003e+06</td>\n",
       "      <td>3.169530e+05</td>\n",
       "    </tr>\n",
       "    <tr>\n",
       "      <th>min</th>\n",
       "      <td>1.000000e+00</td>\n",
       "      <td>0.000000</td>\n",
       "      <td>0.000000e+00</td>\n",
       "      <td>1.000000e+01</td>\n",
       "    </tr>\n",
       "    <tr>\n",
       "      <th>25%</th>\n",
       "      <td>6.251875e+04</td>\n",
       "      <td>3671.910000</td>\n",
       "      <td>1.104000e+03</td>\n",
       "      <td>2.487505e+05</td>\n",
       "    </tr>\n",
       "    <tr>\n",
       "      <th>50%</th>\n",
       "      <td>1.440044e+06</td>\n",
       "      <td>25572.500000</td>\n",
       "      <td>1.655800e+04</td>\n",
       "      <td>5.102500e+05</td>\n",
       "    </tr>\n",
       "    <tr>\n",
       "      <th>75%</th>\n",
       "      <td>6.426824e+06</td>\n",
       "      <td>146384.750000</td>\n",
       "      <td>8.047400e+04</td>\n",
       "      <td>7.198920e+05</td>\n",
       "    </tr>\n",
       "    <tr>\n",
       "      <th>max</th>\n",
       "      <td>7.686784e+08</td>\n",
       "      <td>951087.000000</td>\n",
       "      <td>1.022620e+07</td>\n",
       "      <td>1.290493e+06</td>\n",
       "    </tr>\n",
       "  </tbody>\n",
       "</table>\n",
       "</div>"
      ],
      "text/plain": [
       "       Production(Tons)  Production per Person (Kg)  Acreage (Hectare)  \\\n",
       "count      1.020000e+02                  102.000000       1.020000e+02   \n",
       "mean       1.850372e+07               112952.435755       2.498981e+05   \n",
       "std        8.419149e+07               176651.341929       1.137003e+06   \n",
       "min        1.000000e+00                    0.000000       0.000000e+00   \n",
       "25%        6.251875e+04                 3671.910000       1.104000e+03   \n",
       "50%        1.440044e+06                25572.500000       1.655800e+04   \n",
       "75%        6.426824e+06               146384.750000       8.047400e+04   \n",
       "max        7.686784e+08               951087.000000       1.022620e+07   \n",
       "\n",
       "       Yield (Kg / Hectare)  \n",
       "count          1.020000e+02  \n",
       "mean           5.018502e+05  \n",
       "std            3.169530e+05  \n",
       "min            1.000000e+01  \n",
       "25%            2.487505e+05  \n",
       "50%            5.102500e+05  \n",
       "75%            7.198920e+05  \n",
       "max            1.290493e+06  "
      ]
     },
     "execution_count": 91,
     "metadata": {},
     "output_type": "execute_result"
    }
   ],
   "source": [
    "df.describe()"
   ]
  },
  {
   "cell_type": "code",
   "execution_count": null,
   "id": "4464ff20",
   "metadata": {},
   "outputs": [],
   "source": []
  },
  {
   "cell_type": "markdown",
   "id": "bc27a590",
   "metadata": {},
   "source": [
    "## Bivariate Analysis"
   ]
  },
  {
   "cell_type": "code",
   "execution_count": 92,
   "id": "368e8e5d",
   "metadata": {},
   "outputs": [
    {
     "data": {
      "text/html": [
       "<div>\n",
       "<style scoped>\n",
       "    .dataframe tbody tr th:only-of-type {\n",
       "        vertical-align: middle;\n",
       "    }\n",
       "\n",
       "    .dataframe tbody tr th {\n",
       "        vertical-align: top;\n",
       "    }\n",
       "\n",
       "    .dataframe thead th {\n",
       "        text-align: right;\n",
       "    }\n",
       "</style>\n",
       "<table border=\"1\" class=\"dataframe\">\n",
       "  <thead>\n",
       "    <tr style=\"text-align: right;\">\n",
       "      <th></th>\n",
       "      <th>Country</th>\n",
       "      <th>Continent</th>\n",
       "      <th>Production(Tons)</th>\n",
       "      <th>Production per Person (Kg)</th>\n",
       "      <th>Acreage (Hectare)</th>\n",
       "      <th>Yield (Kg / Hectare)</th>\n",
       "    </tr>\n",
       "  </thead>\n",
       "  <tbody>\n",
       "    <tr>\n",
       "      <th>0</th>\n",
       "      <td>Brazil</td>\n",
       "      <td>South America</td>\n",
       "      <td>768678382.0</td>\n",
       "      <td>3668.531</td>\n",
       "      <td>10226205.0</td>\n",
       "      <td>751675.0</td>\n",
       "    </tr>\n",
       "    <tr>\n",
       "      <th>1</th>\n",
       "      <td>India</td>\n",
       "      <td>Asia</td>\n",
       "      <td>348448000.0</td>\n",
       "      <td>260721.000</td>\n",
       "      <td>4950000.0</td>\n",
       "      <td>703935.0</td>\n",
       "    </tr>\n",
       "    <tr>\n",
       "      <th>2</th>\n",
       "      <td>China</td>\n",
       "      <td>Asia</td>\n",
       "      <td>123059739.0</td>\n",
       "      <td>88287.000</td>\n",
       "      <td>1675215.0</td>\n",
       "      <td>734591.0</td>\n",
       "    </tr>\n",
       "    <tr>\n",
       "      <th>3</th>\n",
       "      <td>Thailand</td>\n",
       "      <td>Asia</td>\n",
       "      <td>87468496.0</td>\n",
       "      <td>1264.303</td>\n",
       "      <td>1336575.0</td>\n",
       "      <td>654422.0</td>\n",
       "    </tr>\n",
       "    <tr>\n",
       "      <th>4</th>\n",
       "      <td>Pakistan</td>\n",
       "      <td>Asia</td>\n",
       "      <td>65450704.0</td>\n",
       "      <td>324219.000</td>\n",
       "      <td>1130820.0</td>\n",
       "      <td>57879.0</td>\n",
       "    </tr>\n",
       "  </tbody>\n",
       "</table>\n",
       "</div>"
      ],
      "text/plain": [
       "    Country      Continent  Production(Tons)  Production per Person (Kg)  \\\n",
       "0    Brazil  South America       768678382.0                    3668.531   \n",
       "1     India           Asia       348448000.0                  260721.000   \n",
       "2     China           Asia       123059739.0                   88287.000   \n",
       "3  Thailand           Asia        87468496.0                    1264.303   \n",
       "4  Pakistan           Asia        65450704.0                  324219.000   \n",
       "\n",
       "   Acreage (Hectare)  Yield (Kg / Hectare)  \n",
       "0         10226205.0              751675.0  \n",
       "1          4950000.0              703935.0  \n",
       "2          1675215.0              734591.0  \n",
       "3          1336575.0              654422.0  \n",
       "4          1130820.0               57879.0  "
      ]
     },
     "execution_count": 92,
     "metadata": {},
     "output_type": "execute_result"
    }
   ],
   "source": [
    "df.head()"
   ]
  },
  {
   "cell_type": "markdown",
   "id": "d110927f",
   "metadata": {},
   "source": [
    "### Which country produces maximum sugarcane?"
   ]
  },
  {
   "cell_type": "code",
   "execution_count": 93,
   "id": "4badf008",
   "metadata": {},
   "outputs": [],
   "source": [
    "df1 = df[[\"Country\", \"Production(Tons)\"]].set_index(\"Country\")"
   ]
  },
  {
   "cell_type": "code",
   "execution_count": 94,
   "id": "92fb26ae",
   "metadata": {},
   "outputs": [
    {
     "data": {
      "text/html": [
       "<div>\n",
       "<style scoped>\n",
       "    .dataframe tbody tr th:only-of-type {\n",
       "        vertical-align: middle;\n",
       "    }\n",
       "\n",
       "    .dataframe tbody tr th {\n",
       "        vertical-align: top;\n",
       "    }\n",
       "\n",
       "    .dataframe thead th {\n",
       "        text-align: right;\n",
       "    }\n",
       "</style>\n",
       "<table border=\"1\" class=\"dataframe\">\n",
       "  <thead>\n",
       "    <tr style=\"text-align: right;\">\n",
       "      <th></th>\n",
       "      <th>Production(Tons)</th>\n",
       "    </tr>\n",
       "    <tr>\n",
       "      <th>Country</th>\n",
       "      <th></th>\n",
       "    </tr>\n",
       "  </thead>\n",
       "  <tbody>\n",
       "    <tr>\n",
       "      <th>Brazil</th>\n",
       "      <td>768678382.0</td>\n",
       "    </tr>\n",
       "    <tr>\n",
       "      <th>India</th>\n",
       "      <td>348448000.0</td>\n",
       "    </tr>\n",
       "    <tr>\n",
       "      <th>China</th>\n",
       "      <td>123059739.0</td>\n",
       "    </tr>\n",
       "    <tr>\n",
       "      <th>Thailand</th>\n",
       "      <td>87468496.0</td>\n",
       "    </tr>\n",
       "    <tr>\n",
       "      <th>Pakistan</th>\n",
       "      <td>65450704.0</td>\n",
       "    </tr>\n",
       "    <tr>\n",
       "      <th>...</th>\n",
       "      <td>...</td>\n",
       "    </tr>\n",
       "    <tr>\n",
       "      <th>Spain</th>\n",
       "      <td>394.0</td>\n",
       "    </tr>\n",
       "    <tr>\n",
       "      <th>Lebanon</th>\n",
       "      <td>97.0</td>\n",
       "    </tr>\n",
       "    <tr>\n",
       "      <th>Singapore</th>\n",
       "      <td>50.0</td>\n",
       "    </tr>\n",
       "    <tr>\n",
       "      <th>Samoa</th>\n",
       "      <td>12.0</td>\n",
       "    </tr>\n",
       "    <tr>\n",
       "      <th>Syria</th>\n",
       "      <td>1.0</td>\n",
       "    </tr>\n",
       "  </tbody>\n",
       "</table>\n",
       "<p>102 rows × 1 columns</p>\n",
       "</div>"
      ],
      "text/plain": [
       "           Production(Tons)\n",
       "Country                    \n",
       "Brazil          768678382.0\n",
       "India           348448000.0\n",
       "China           123059739.0\n",
       "Thailand         87468496.0\n",
       "Pakistan         65450704.0\n",
       "...                     ...\n",
       "Spain                 394.0\n",
       "Lebanon                97.0\n",
       "Singapore              50.0\n",
       "Samoa                  12.0\n",
       "Syria                   1.0\n",
       "\n",
       "[102 rows x 1 columns]"
      ]
     },
     "execution_count": 94,
     "metadata": {},
     "output_type": "execute_result"
    }
   ],
   "source": [
    "df1"
   ]
  },
  {
   "cell_type": "code",
   "execution_count": 95,
   "id": "59b1cc17",
   "metadata": {},
   "outputs": [],
   "source": [
    "df1[\"Production(Tons)_percent\"] = df1[\"Production(Tons)\"]*100 / df1[\"Production(Tons)\"].sum()"
   ]
  },
  {
   "cell_type": "code",
   "execution_count": 96,
   "id": "613ff7a7",
   "metadata": {},
   "outputs": [
    {
     "data": {
      "text/html": [
       "<div>\n",
       "<style scoped>\n",
       "    .dataframe tbody tr th:only-of-type {\n",
       "        vertical-align: middle;\n",
       "    }\n",
       "\n",
       "    .dataframe tbody tr th {\n",
       "        vertical-align: top;\n",
       "    }\n",
       "\n",
       "    .dataframe thead th {\n",
       "        text-align: right;\n",
       "    }\n",
       "</style>\n",
       "<table border=\"1\" class=\"dataframe\">\n",
       "  <thead>\n",
       "    <tr style=\"text-align: right;\">\n",
       "      <th></th>\n",
       "      <th>Production(Tons)</th>\n",
       "      <th>Production(Tons)_percent</th>\n",
       "    </tr>\n",
       "    <tr>\n",
       "      <th>Country</th>\n",
       "      <th></th>\n",
       "      <th></th>\n",
       "    </tr>\n",
       "  </thead>\n",
       "  <tbody>\n",
       "    <tr>\n",
       "      <th>Brazil</th>\n",
       "      <td>768678382.0</td>\n",
       "      <td>4.072729e+01</td>\n",
       "    </tr>\n",
       "    <tr>\n",
       "      <th>India</th>\n",
       "      <td>348448000.0</td>\n",
       "      <td>1.846200e+01</td>\n",
       "    </tr>\n",
       "    <tr>\n",
       "      <th>China</th>\n",
       "      <td>123059739.0</td>\n",
       "      <td>6.520138e+00</td>\n",
       "    </tr>\n",
       "    <tr>\n",
       "      <th>Thailand</th>\n",
       "      <td>87468496.0</td>\n",
       "      <td>4.634389e+00</td>\n",
       "    </tr>\n",
       "    <tr>\n",
       "      <th>Pakistan</th>\n",
       "      <td>65450704.0</td>\n",
       "      <td>3.467809e+00</td>\n",
       "    </tr>\n",
       "    <tr>\n",
       "      <th>...</th>\n",
       "      <td>...</td>\n",
       "      <td>...</td>\n",
       "    </tr>\n",
       "    <tr>\n",
       "      <th>Spain</th>\n",
       "      <td>394.0</td>\n",
       "      <td>2.087551e-05</td>\n",
       "    </tr>\n",
       "    <tr>\n",
       "      <th>Lebanon</th>\n",
       "      <td>97.0</td>\n",
       "      <td>5.139401e-06</td>\n",
       "    </tr>\n",
       "    <tr>\n",
       "      <th>Singapore</th>\n",
       "      <td>50.0</td>\n",
       "      <td>2.649176e-06</td>\n",
       "    </tr>\n",
       "    <tr>\n",
       "      <th>Samoa</th>\n",
       "      <td>12.0</td>\n",
       "      <td>6.358022e-07</td>\n",
       "    </tr>\n",
       "    <tr>\n",
       "      <th>Syria</th>\n",
       "      <td>1.0</td>\n",
       "      <td>5.298352e-08</td>\n",
       "    </tr>\n",
       "  </tbody>\n",
       "</table>\n",
       "<p>102 rows × 2 columns</p>\n",
       "</div>"
      ],
      "text/plain": [
       "           Production(Tons)  Production(Tons)_percent\n",
       "Country                                              \n",
       "Brazil          768678382.0              4.072729e+01\n",
       "India           348448000.0              1.846200e+01\n",
       "China           123059739.0              6.520138e+00\n",
       "Thailand         87468496.0              4.634389e+00\n",
       "Pakistan         65450704.0              3.467809e+00\n",
       "...                     ...                       ...\n",
       "Spain                 394.0              2.087551e-05\n",
       "Lebanon                97.0              5.139401e-06\n",
       "Singapore              50.0              2.649176e-06\n",
       "Samoa                  12.0              6.358022e-07\n",
       "Syria                   1.0              5.298352e-08\n",
       "\n",
       "[102 rows x 2 columns]"
      ]
     },
     "execution_count": 96,
     "metadata": {},
     "output_type": "execute_result"
    }
   ],
   "source": [
    "df1"
   ]
  },
  {
   "cell_type": "code",
   "execution_count": 97,
   "id": "15c98853",
   "metadata": {},
   "outputs": [
    {
     "data": {
      "text/plain": [
       "<AxesSubplot:ylabel='Production(Tons)_percent'>"
      ]
     },
     "execution_count": 97,
     "metadata": {},
     "output_type": "execute_result"
    },
    {
     "data": {
      "image/png": "[encoded data removed]",
      "text/plain": [
       "<Figure size 432x288 with 1 Axes>"
      ]
     },
     "metadata": {},
     "output_type": "display_data"
    }
   ],
   "source": [
    "df1[\"Production(Tons)_percent\"].plot(kind = \"pie\", autopct = '%.2f')"
   ]
  },
  {
   "cell_type": "code",
   "execution_count": 100,
   "id": "de2affcb",
   "metadata": {},
   "outputs": [
    {
     "data": {
      "text/plain": [
       "<AxesSubplot:xlabel='Country'>"
      ]
     },
     "execution_count": 100,
     "metadata": {},
     "output_type": "execute_result"
    },
    {
     "data": {
      "image/png": "[encoded data removed]",
      "text/plain": [
       "<Figure size 432x288 with 1 Axes>"
      ]
     },
     "metadata": {
      "needs_background": "light"
     },
     "output_type": "display_data"
    }
   ],
   "source": [
    "df1[\"Production(Tons)\"].head(10).plot(kind= 'bar')"
   ]
  },
  {
   "cell_type": "code",
   "execution_count": 105,
   "id": "6e548194",
   "metadata": {},
   "outputs": [
    {
     "data": {
      "image/png": "[encoded data removed]",
      "text/plain": [
       "<Figure size 432x288 with 1 Axes>"
      ]
     },
     "metadata": {
      "needs_background": "light"
     },
     "output_type": "display_data"
    }
   ],
   "source": [
    "ax = sns.barplot(data = df.head(10), x = \"Country\", y = \"Production(Tons)\")\n",
    "ax.set_xticklabels(ax.get_xticklabels(),rotation = 90)\n",
    "plt.show()"
   ]
  },
  {
   "cell_type": "code",
   "execution_count": null,
   "id": "7382847a",
   "metadata": {},
   "outputs": [],
   "source": []
  },
  {
   "cell_type": "markdown",
   "id": "8c6751e9",
   "metadata": {},
   "source": [
    "### Which country has highest land ?"
   ]
  },
  {
   "cell_type": "code",
   "execution_count": 109,
   "id": "c2808683",
   "metadata": {},
   "outputs": [
    {
     "data": {
      "text/html": [
       "<div>\n",
       "<style scoped>\n",
       "    .dataframe tbody tr th:only-of-type {\n",
       "        vertical-align: middle;\n",
       "    }\n",
       "\n",
       "    .dataframe tbody tr th {\n",
       "        vertical-align: top;\n",
       "    }\n",
       "\n",
       "    .dataframe thead th {\n",
       "        text-align: right;\n",
       "    }\n",
       "</style>\n",
       "<table border=\"1\" class=\"dataframe\">\n",
       "  <thead>\n",
       "    <tr style=\"text-align: right;\">\n",
       "      <th></th>\n",
       "      <th>Country</th>\n",
       "      <th>Continent</th>\n",
       "      <th>Production(Tons)</th>\n",
       "      <th>Production per Person (Kg)</th>\n",
       "      <th>Acreage (Hectare)</th>\n",
       "      <th>Yield (Kg / Hectare)</th>\n",
       "    </tr>\n",
       "  </thead>\n",
       "  <tbody>\n",
       "    <tr>\n",
       "      <th>0</th>\n",
       "      <td>Brazil</td>\n",
       "      <td>South America</td>\n",
       "      <td>768678382.0</td>\n",
       "      <td>3668.531</td>\n",
       "      <td>10226205.0</td>\n",
       "      <td>751675.0</td>\n",
       "    </tr>\n",
       "    <tr>\n",
       "      <th>1</th>\n",
       "      <td>India</td>\n",
       "      <td>Asia</td>\n",
       "      <td>348448000.0</td>\n",
       "      <td>260721.000</td>\n",
       "      <td>4950000.0</td>\n",
       "      <td>703935.0</td>\n",
       "    </tr>\n",
       "    <tr>\n",
       "      <th>2</th>\n",
       "      <td>China</td>\n",
       "      <td>Asia</td>\n",
       "      <td>123059739.0</td>\n",
       "      <td>88287.000</td>\n",
       "      <td>1675215.0</td>\n",
       "      <td>734591.0</td>\n",
       "    </tr>\n",
       "    <tr>\n",
       "      <th>3</th>\n",
       "      <td>Thailand</td>\n",
       "      <td>Asia</td>\n",
       "      <td>87468496.0</td>\n",
       "      <td>1264.303</td>\n",
       "      <td>1336575.0</td>\n",
       "      <td>654422.0</td>\n",
       "    </tr>\n",
       "    <tr>\n",
       "      <th>4</th>\n",
       "      <td>Pakistan</td>\n",
       "      <td>Asia</td>\n",
       "      <td>65450704.0</td>\n",
       "      <td>324219.000</td>\n",
       "      <td>1130820.0</td>\n",
       "      <td>57879.0</td>\n",
       "    </tr>\n",
       "    <tr>\n",
       "      <th>5</th>\n",
       "      <td>Mexico</td>\n",
       "      <td>North America</td>\n",
       "      <td>56446821.0</td>\n",
       "      <td>452524.000</td>\n",
       "      <td>781054.0</td>\n",
       "      <td>7227.0</td>\n",
       "    </tr>\n",
       "    <tr>\n",
       "      <th>6</th>\n",
       "      <td>Colombia</td>\n",
       "      <td>South America</td>\n",
       "      <td>36951213.0</td>\n",
       "      <td>740075.000</td>\n",
       "      <td>416626.0</td>\n",
       "      <td>886915.0</td>\n",
       "    </tr>\n",
       "    <tr>\n",
       "      <th>7</th>\n",
       "      <td>Australia</td>\n",
       "      <td>Oceania</td>\n",
       "      <td>34403004.0</td>\n",
       "      <td>1373.406</td>\n",
       "      <td>447204.0</td>\n",
       "      <td>769291.0</td>\n",
       "    </tr>\n",
       "    <tr>\n",
       "      <th>8</th>\n",
       "      <td>Guatemala</td>\n",
       "      <td>North America</td>\n",
       "      <td>33533403.0</td>\n",
       "      <td>1938.114</td>\n",
       "      <td>25985.0</td>\n",
       "      <td>1290493.0</td>\n",
       "    </tr>\n",
       "    <tr>\n",
       "      <th>9</th>\n",
       "      <td>United States of America</td>\n",
       "      <td>North America</td>\n",
       "      <td>29926210.0</td>\n",
       "      <td>91304.000</td>\n",
       "      <td>37053.0</td>\n",
       "      <td>80766.0</td>\n",
       "    </tr>\n",
       "  </tbody>\n",
       "</table>\n",
       "</div>"
      ],
      "text/plain": [
       "                    Country      Continent  Production(Tons)  \\\n",
       "0                    Brazil  South America       768678382.0   \n",
       "1                     India           Asia       348448000.0   \n",
       "2                     China           Asia       123059739.0   \n",
       "3                  Thailand           Asia        87468496.0   \n",
       "4                  Pakistan           Asia        65450704.0   \n",
       "5                    Mexico  North America        56446821.0   \n",
       "6                  Colombia  South America        36951213.0   \n",
       "7                 Australia        Oceania        34403004.0   \n",
       "8                 Guatemala  North America        33533403.0   \n",
       "9  United States of America  North America        29926210.0   \n",
       "\n",
       "   Production per Person (Kg)  Acreage (Hectare)  Yield (Kg / Hectare)  \n",
       "0                    3668.531         10226205.0              751675.0  \n",
       "1                  260721.000          4950000.0              703935.0  \n",
       "2                   88287.000          1675215.0              734591.0  \n",
       "3                    1264.303          1336575.0              654422.0  \n",
       "4                  324219.000          1130820.0               57879.0  \n",
       "5                  452524.000           781054.0                7227.0  \n",
       "6                  740075.000           416626.0              886915.0  \n",
       "7                    1373.406           447204.0              769291.0  \n",
       "8                    1938.114            25985.0             1290493.0  \n",
       "9                   91304.000            37053.0               80766.0  "
      ]
     },
     "execution_count": 109,
     "metadata": {},
     "output_type": "execute_result"
    }
   ],
   "source": [
    "df.head(10)"
   ]
  },
  {
   "cell_type": "code",
   "execution_count": 112,
   "id": "ca8cb724",
   "metadata": {},
   "outputs": [
    {
     "data": {
      "image/png": "[encoded data removed]",
      "text/plain": [
       "<Figure size 432x288 with 1 Axes>"
      ]
     },
     "metadata": {
      "needs_background": "light"
     },
     "output_type": "display_data"
    }
   ],
   "source": [
    "# This data is not sorted according to Acreage land so we need to 1st sort it out according to Acreage land\n",
    "ax = sns.barplot(data = df.head(10), x = \"Country\", y = \"Acreage (Hectare)\")\n",
    "ax.set_xticklabels(ax.get_xticklabels(),rotation = 90)\n",
    "plt.show()"
   ]
  },
  {
   "cell_type": "code",
   "execution_count": 113,
   "id": "06d6fc52",
   "metadata": {},
   "outputs": [
    {
     "data": {
      "image/png": "[encoded data removed]",
      "text/plain": [
       "<Figure size 432x288 with 1 Axes>"
      ]
     },
     "metadata": {
      "needs_background": "light"
     },
     "output_type": "display_data"
    }
   ],
   "source": [
    "df_acr = df.sort_values('Acreage (Hectare)', ascending= False)\n",
    "ax = sns.barplot(data = df_acr.head(10), x = \"Country\", y = \"Acreage (Hectare)\")\n",
    "ax.set_xticklabels(ax.get_xticklabels(),rotation = 90)\n",
    "plt.show()"
   ]
  },
  {
   "cell_type": "code",
   "execution_count": null,
   "id": "f3409184",
   "metadata": {},
   "outputs": [],
   "source": []
  },
  {
   "cell_type": "markdown",
   "id": "7278b59a",
   "metadata": {},
   "source": [
    "### Which country has highest yield per hectare ?"
   ]
  },
  {
   "cell_type": "code",
   "execution_count": 115,
   "id": "8133f606",
   "metadata": {},
   "outputs": [
    {
     "data": {
      "image/png": "[encoded data removed]",
      "text/plain": [
       "<Figure size 432x288 with 1 Axes>"
      ]
     },
     "metadata": {
      "needs_background": "light"
     },
     "output_type": "display_data"
    }
   ],
   "source": [
    "df_yd = df.sort_values('Yield (Kg / Hectare)', ascending= False)\n",
    "ax = sns.barplot(data = df_yd.head(10), x = \"Country\", y = \"Yield (Kg / Hectare)\")\n",
    "ax.set_xticklabels(ax.get_xticklabels(),rotation = 90)\n",
    "plt.show()"
   ]
  },
  {
   "cell_type": "code",
   "execution_count": null,
   "id": "3882fe93",
   "metadata": {},
   "outputs": [],
   "source": [
    "\n"
   ]
  },
  {
   "cell_type": "markdown",
   "id": "41fdd954",
   "metadata": {},
   "source": [
    "### Which country has the highest production per person Kg ?"
   ]
  },
  {
   "cell_type": "code",
   "execution_count": 116,
   "id": "539b42ab",
   "metadata": {},
   "outputs": [
    {
     "data": {
      "image/png": "[encoded data removed]",
      "text/plain": [
       "<Figure size 432x288 with 1 Axes>"
      ]
     },
     "metadata": {
      "needs_background": "light"
     },
     "output_type": "display_data"
    }
   ],
   "source": [
    "df_yd = df.sort_values('Production per Person (Kg)', ascending= False)\n",
    "ax = sns.barplot(data = df_yd.head(10), x = \"Country\", y = \"Production per Person (Kg)\")\n",
    "ax.set_xticklabels(ax.get_xticklabels(),rotation = 90)\n",
    "plt.show()"
   ]
  },
  {
   "cell_type": "code",
   "execution_count": null,
   "id": "96e95ea8",
   "metadata": {},
   "outputs": [],
   "source": []
  },
  {
   "cell_type": "markdown",
   "id": "1277f264",
   "metadata": {},
   "source": [
    "## Correlation"
   ]
  },
  {
   "cell_type": "code",
   "execution_count": 118,
   "id": "c2184ab2",
   "metadata": {},
   "outputs": [
    {
     "data": {
      "text/html": [
       "<div>\n",
       "<style scoped>\n",
       "    .dataframe tbody tr th:only-of-type {\n",
       "        vertical-align: middle;\n",
       "    }\n",
       "\n",
       "    .dataframe tbody tr th {\n",
       "        vertical-align: top;\n",
       "    }\n",
       "\n",
       "    .dataframe thead th {\n",
       "        text-align: right;\n",
       "    }\n",
       "</style>\n",
       "<table border=\"1\" class=\"dataframe\">\n",
       "  <thead>\n",
       "    <tr style=\"text-align: right;\">\n",
       "      <th></th>\n",
       "      <th>Production(Tons)</th>\n",
       "      <th>Production per Person (Kg)</th>\n",
       "      <th>Acreage (Hectare)</th>\n",
       "      <th>Yield (Kg / Hectare)</th>\n",
       "    </tr>\n",
       "  </thead>\n",
       "  <tbody>\n",
       "    <tr>\n",
       "      <th>Production(Tons)</th>\n",
       "      <td>1.000000</td>\n",
       "      <td>0.015000</td>\n",
       "      <td>0.997550</td>\n",
       "      <td>0.121125</td>\n",
       "    </tr>\n",
       "    <tr>\n",
       "      <th>Production per Person (Kg)</th>\n",
       "      <td>0.015000</td>\n",
       "      <td>1.000000</td>\n",
       "      <td>0.012557</td>\n",
       "      <td>-0.043603</td>\n",
       "    </tr>\n",
       "    <tr>\n",
       "      <th>Acreage (Hectare)</th>\n",
       "      <td>0.997550</td>\n",
       "      <td>0.012557</td>\n",
       "      <td>1.000000</td>\n",
       "      <td>0.107826</td>\n",
       "    </tr>\n",
       "    <tr>\n",
       "      <th>Yield (Kg / Hectare)</th>\n",
       "      <td>0.121125</td>\n",
       "      <td>-0.043603</td>\n",
       "      <td>0.107826</td>\n",
       "      <td>1.000000</td>\n",
       "    </tr>\n",
       "  </tbody>\n",
       "</table>\n",
       "</div>"
      ],
      "text/plain": [
       "                            Production(Tons)  Production per Person (Kg)  \\\n",
       "Production(Tons)                    1.000000                    0.015000   \n",
       "Production per Person (Kg)          0.015000                    1.000000   \n",
       "Acreage (Hectare)                   0.997550                    0.012557   \n",
       "Yield (Kg / Hectare)                0.121125                   -0.043603   \n",
       "\n",
       "                            Acreage (Hectare)  Yield (Kg / Hectare)  \n",
       "Production(Tons)                     0.997550              0.121125  \n",
       "Production per Person (Kg)           0.012557             -0.043603  \n",
       "Acreage (Hectare)                    1.000000              0.107826  \n",
       "Yield (Kg / Hectare)                 0.107826              1.000000  "
      ]
     },
     "execution_count": 118,
     "metadata": {},
     "output_type": "execute_result"
    }
   ],
   "source": [
    "# If values are closer to 1 they are more corelated and if the value is closer to \"-1\" they are less correlated\n",
    "df.corr()"
   ]
  },
  {
   "cell_type": "code",
   "execution_count": 120,
   "id": "471da7a6",
   "metadata": {},
   "outputs": [
    {
     "data": {
      "text/plain": [
       "<AxesSubplot:>"
      ]
     },
     "execution_count": 120,
     "metadata": {},
     "output_type": "execute_result"
    },
    {
     "data": {
      "image/png": "[encoded data removed]",
      "text/plain": [
       "<Figure size 432x288 with 2 Axes>"
      ]
     },
     "metadata": {
      "needs_background": "light"
     },
     "output_type": "display_data"
    }
   ],
   "source": [
    "sns.heatmap(df.corr(), annot = True, cmap = \"Greens\")"
   ]
  },
  {
   "cell_type": "markdown",
   "id": "c97b9b73",
   "metadata": {},
   "source": [
    "### Do countries with highest land produce more sugarcane ?"
   ]
  },
  {
   "cell_type": "code",
   "execution_count": 121,
   "id": "24e4beb8",
   "metadata": {},
   "outputs": [
    {
     "data": {
      "text/plain": [
       "<AxesSubplot:xlabel='Acreage (Hectare)', ylabel='Production(Tons)'>"
      ]
     },
     "execution_count": 121,
     "metadata": {},
     "output_type": "execute_result"
    },
    {
     "data": {
      "image/png": "[encoded data removed]",
      "text/plain": [
       "<Figure size 432x288 with 1 Axes>"
      ]
     },
     "metadata": {
      "needs_background": "light"
     },
     "output_type": "display_data"
    }
   ],
   "source": [
    "sns.scatterplot(data = df, x = \"Acreage (Hectare)\", y = \"Production(Tons)\" )"
   ]
  },
  {
   "cell_type": "code",
   "execution_count": null,
   "id": "12980c5e",
   "metadata": {},
   "outputs": [],
   "source": []
  },
  {
   "cell_type": "markdown",
   "id": "01e0e787",
   "metadata": {},
   "source": [
    "### Do countries which yield more sugarcane per hectare produces more sugarcan in total ?"
   ]
  },
  {
   "cell_type": "code",
   "execution_count": 122,
   "id": "3c65ebfc",
   "metadata": {},
   "outputs": [
    {
     "data": {
      "text/plain": [
       "<AxesSubplot:xlabel='Yield (Kg / Hectare)', ylabel='Production(Tons)'>"
      ]
     },
     "execution_count": 122,
     "metadata": {},
     "output_type": "execute_result"
    },
    {
     "data": {
      "image/png": "[encoded data removed]",
      "text/plain": [
       "<Figure size 432x288 with 1 Axes>"
      ]
     },
     "metadata": {
      "needs_background": "light"
     },
     "output_type": "display_data"
    }
   ],
   "source": [
    "sns.scatterplot(data = df, x = \"Yield (Kg / Hectare)\", y = \"Production(Tons)\" )"
   ]
  },
  {
   "cell_type": "code",
   "execution_count": null,
   "id": "3ba0c208",
   "metadata": {},
   "outputs": [],
   "source": []
  },
  {
   "cell_type": "markdown",
   "id": "d058975a",
   "metadata": {},
   "source": [
    "### Analysis for Continent"
   ]
  },
  {
   "cell_type": "code",
   "execution_count": 123,
   "id": "64684229",
   "metadata": {},
   "outputs": [],
   "source": [
    "df_continent = df.groupby(\"Continent\").sum()"
   ]
  },
  {
   "cell_type": "code",
   "execution_count": 124,
   "id": "a3c039a9",
   "metadata": {},
   "outputs": [
    {
     "data": {
      "text/html": [
       "<div>\n",
       "<style scoped>\n",
       "    .dataframe tbody tr th:only-of-type {\n",
       "        vertical-align: middle;\n",
       "    }\n",
       "\n",
       "    .dataframe tbody tr th {\n",
       "        vertical-align: top;\n",
       "    }\n",
       "\n",
       "    .dataframe thead th {\n",
       "        text-align: right;\n",
       "    }\n",
       "</style>\n",
       "<table border=\"1\" class=\"dataframe\">\n",
       "  <thead>\n",
       "    <tr style=\"text-align: right;\">\n",
       "      <th></th>\n",
       "      <th>Production(Tons)</th>\n",
       "      <th>Production per Person (Kg)</th>\n",
       "      <th>Acreage (Hectare)</th>\n",
       "      <th>Yield (Kg / Hectare)</th>\n",
       "    </tr>\n",
       "    <tr>\n",
       "      <th>Continent</th>\n",
       "      <th></th>\n",
       "      <th></th>\n",
       "      <th></th>\n",
       "      <th></th>\n",
       "    </tr>\n",
       "  </thead>\n",
       "  <tbody>\n",
       "    <tr>\n",
       "      <th>Africa</th>\n",
       "      <td>89681472.0</td>\n",
       "      <td>2332636.293</td>\n",
       "      <td>1439089.0</td>\n",
       "      <td>20700454.0</td>\n",
       "    </tr>\n",
       "    <tr>\n",
       "      <th>Asia</th>\n",
       "      <td>721930425.0</td>\n",
       "      <td>1857769.303</td>\n",
       "      <td>10608319.0</td>\n",
       "      <td>11197308.0</td>\n",
       "    </tr>\n",
       "    <tr>\n",
       "      <th>Europe</th>\n",
       "      <td>5823.0</td>\n",
       "      <td>536.000</td>\n",
       "      <td>71.0</td>\n",
       "      <td>1318709.0</td>\n",
       "    </tr>\n",
       "    <tr>\n",
       "      <th>North America</th>\n",
       "      <td>173995947.0</td>\n",
       "      <td>3796081.508</td>\n",
       "      <td>1581983.0</td>\n",
       "      <td>9581162.0</td>\n",
       "    </tr>\n",
       "    <tr>\n",
       "      <th>Oceania</th>\n",
       "      <td>36177574.0</td>\n",
       "      <td>28593.605</td>\n",
       "      <td>490909.0</td>\n",
       "      <td>1624191.0</td>\n",
       "    </tr>\n",
       "    <tr>\n",
       "      <th>South America</th>\n",
       "      <td>865588126.0</td>\n",
       "      <td>3505531.738</td>\n",
       "      <td>11369236.0</td>\n",
       "      <td>6766896.0</td>\n",
       "    </tr>\n",
       "  </tbody>\n",
       "</table>\n",
       "</div>"
      ],
      "text/plain": [
       "               Production(Tons)  Production per Person (Kg)  \\\n",
       "Continent                                                     \n",
       "Africa               89681472.0                 2332636.293   \n",
       "Asia                721930425.0                 1857769.303   \n",
       "Europe                   5823.0                     536.000   \n",
       "North America       173995947.0                 3796081.508   \n",
       "Oceania              36177574.0                   28593.605   \n",
       "South America       865588126.0                 3505531.738   \n",
       "\n",
       "               Acreage (Hectare)  Yield (Kg / Hectare)  \n",
       "Continent                                               \n",
       "Africa                 1439089.0            20700454.0  \n",
       "Asia                  10608319.0            11197308.0  \n",
       "Europe                      71.0             1318709.0  \n",
       "North America          1581983.0             9581162.0  \n",
       "Oceania                 490909.0             1624191.0  \n",
       "South America         11369236.0             6766896.0  "
      ]
     },
     "execution_count": 124,
     "metadata": {},
     "output_type": "execute_result"
    }
   ],
   "source": [
    "df_continent"
   ]
  },
  {
   "cell_type": "code",
   "execution_count": 135,
   "id": "e509b9d0",
   "metadata": {},
   "outputs": [
    {
     "data": {
      "text/plain": [
       "Africa           38\n",
       "Asia             25\n",
       "North America    22\n",
       "South America    11\n",
       "Oceania           4\n",
       "Europe            2\n",
       "Name: Continent, dtype: int64"
      ]
     },
     "execution_count": 135,
     "metadata": {},
     "output_type": "execute_result"
    }
   ],
   "source": [
    "df['Continent'].value_counts()"
   ]
  },
  {
   "cell_type": "markdown",
   "id": "59931057",
   "metadata": {},
   "source": [
    "### Which continent produces maximum sugarcane ?"
   ]
  },
  {
   "cell_type": "code",
   "execution_count": 127,
   "id": "0f37cf74",
   "metadata": {},
   "outputs": [
    {
     "data": {
      "text/plain": [
       "<AxesSubplot:xlabel='Continent'>"
      ]
     },
     "execution_count": 127,
     "metadata": {},
     "output_type": "execute_result"
    },
    {
     "data": {
      "image/png": "[encoded data removed]",
      "text/plain": [
       "<Figure size 432x288 with 1 Axes>"
      ]
     },
     "metadata": {
      "needs_background": "light"
     },
     "output_type": "display_data"
    }
   ],
   "source": [
    "df_continent['Production(Tons)'].sort_values(ascending= False).plot(kind= 'bar')"
   ]
  },
  {
   "cell_type": "code",
   "execution_count": 136,
   "id": "dd06bfe3",
   "metadata": {},
   "outputs": [
    {
     "data": {
      "text/plain": [
       "<AxesSubplot:xlabel='Continent'>"
      ]
     },
     "execution_count": 136,
     "metadata": {},
     "output_type": "execute_result"
    },
    {
     "data": {
      "image/png": "[encoded data removed]",
      "text/plain": [
       "<Figure size 432x288 with 1 Axes>"
      ]
     },
     "metadata": {
      "needs_background": "light"
     },
     "output_type": "display_data"
    }
   ],
   "source": [
    "df_continent['Acreage (Hectare)'].sort_values(ascending= False).plot(kind= 'bar')"
   ]
  },
  {
   "cell_type": "markdown",
   "id": "8130b66a",
   "metadata": {},
   "source": [
    "### Do number of countries in a continent effects production of sugarcane?"
   ]
  },
  {
   "cell_type": "markdown",
   "id": "836e1f79",
   "metadata": {},
   "source": [
    "###  No"
   ]
  },
  {
   "cell_type": "code",
   "execution_count": 137,
   "id": "6817f553",
   "metadata": {},
   "outputs": [
    {
     "data": {
      "text/plain": [
       "Africa           38\n",
       "Asia             25\n",
       "North America    22\n",
       "South America    11\n",
       "Oceania           4\n",
       "Europe            2\n",
       "Name: Continent, dtype: int64"
      ]
     },
     "execution_count": 137,
     "metadata": {},
     "output_type": "execute_result"
    }
   ],
   "source": [
    "df['Continent'].value_counts()"
   ]
  },
  {
   "cell_type": "code",
   "execution_count": 138,
   "id": "7284723d",
   "metadata": {},
   "outputs": [
    {
     "data": {
      "text/plain": [
       "<AxesSubplot:xlabel='Continent'>"
      ]
     },
     "execution_count": 138,
     "metadata": {},
     "output_type": "execute_result"
    },
    {
     "data": {
      "image/png": "[encoded data removed]",
      "text/plain": [
       "<Figure size 432x288 with 1 Axes>"
      ]
     },
     "metadata": {
      "needs_background": "light"
     },
     "output_type": "display_data"
    }
   ],
   "source": [
    "df_continent['Production(Tons)'].sort_values(ascending= False).plot(kind= 'bar')"
   ]
  },
  {
   "cell_type": "code",
   "execution_count": 142,
   "id": "945c2414",
   "metadata": {},
   "outputs": [],
   "source": [
    "df_continent['Number_of_countries'] = df.groupby(\"Continent\").count()['Country']"
   ]
  },
  {
   "cell_type": "code",
   "execution_count": 143,
   "id": "43ead1e6",
   "metadata": {},
   "outputs": [
    {
     "data": {
      "text/html": [
       "<div>\n",
       "<style scoped>\n",
       "    .dataframe tbody tr th:only-of-type {\n",
       "        vertical-align: middle;\n",
       "    }\n",
       "\n",
       "    .dataframe tbody tr th {\n",
       "        vertical-align: top;\n",
       "    }\n",
       "\n",
       "    .dataframe thead th {\n",
       "        text-align: right;\n",
       "    }\n",
       "</style>\n",
       "<table border=\"1\" class=\"dataframe\">\n",
       "  <thead>\n",
       "    <tr style=\"text-align: right;\">\n",
       "      <th></th>\n",
       "      <th>Production(Tons)</th>\n",
       "      <th>Production per Person (Kg)</th>\n",
       "      <th>Acreage (Hectare)</th>\n",
       "      <th>Yield (Kg / Hectare)</th>\n",
       "      <th>Number_of_countries</th>\n",
       "    </tr>\n",
       "    <tr>\n",
       "      <th>Continent</th>\n",
       "      <th></th>\n",
       "      <th></th>\n",
       "      <th></th>\n",
       "      <th></th>\n",
       "      <th></th>\n",
       "    </tr>\n",
       "  </thead>\n",
       "  <tbody>\n",
       "    <tr>\n",
       "      <th>Africa</th>\n",
       "      <td>89681472.0</td>\n",
       "      <td>2332636.293</td>\n",
       "      <td>1439089.0</td>\n",
       "      <td>20700454.0</td>\n",
       "      <td>38</td>\n",
       "    </tr>\n",
       "    <tr>\n",
       "      <th>Asia</th>\n",
       "      <td>721930425.0</td>\n",
       "      <td>1857769.303</td>\n",
       "      <td>10608319.0</td>\n",
       "      <td>11197308.0</td>\n",
       "      <td>25</td>\n",
       "    </tr>\n",
       "    <tr>\n",
       "      <th>Europe</th>\n",
       "      <td>5823.0</td>\n",
       "      <td>536.000</td>\n",
       "      <td>71.0</td>\n",
       "      <td>1318709.0</td>\n",
       "      <td>2</td>\n",
       "    </tr>\n",
       "    <tr>\n",
       "      <th>North America</th>\n",
       "      <td>173995947.0</td>\n",
       "      <td>3796081.508</td>\n",
       "      <td>1581983.0</td>\n",
       "      <td>9581162.0</td>\n",
       "      <td>22</td>\n",
       "    </tr>\n",
       "    <tr>\n",
       "      <th>Oceania</th>\n",
       "      <td>36177574.0</td>\n",
       "      <td>28593.605</td>\n",
       "      <td>490909.0</td>\n",
       "      <td>1624191.0</td>\n",
       "      <td>4</td>\n",
       "    </tr>\n",
       "    <tr>\n",
       "      <th>South America</th>\n",
       "      <td>865588126.0</td>\n",
       "      <td>3505531.738</td>\n",
       "      <td>11369236.0</td>\n",
       "      <td>6766896.0</td>\n",
       "      <td>11</td>\n",
       "    </tr>\n",
       "  </tbody>\n",
       "</table>\n",
       "</div>"
      ],
      "text/plain": [
       "               Production(Tons)  Production per Person (Kg)  \\\n",
       "Continent                                                     \n",
       "Africa               89681472.0                 2332636.293   \n",
       "Asia                721930425.0                 1857769.303   \n",
       "Europe                   5823.0                     536.000   \n",
       "North America       173995947.0                 3796081.508   \n",
       "Oceania              36177574.0                   28593.605   \n",
       "South America       865588126.0                 3505531.738   \n",
       "\n",
       "               Acreage (Hectare)  Yield (Kg / Hectare)  Number_of_countries  \n",
       "Continent                                                                    \n",
       "Africa                 1439089.0            20700454.0                   38  \n",
       "Asia                  10608319.0            11197308.0                   25  \n",
       "Europe                      71.0             1318709.0                    2  \n",
       "North America          1581983.0             9581162.0                   22  \n",
       "Oceania                 490909.0             1624191.0                    4  \n",
       "South America         11369236.0             6766896.0                   11  "
      ]
     },
     "execution_count": 143,
     "metadata": {},
     "output_type": "execute_result"
    }
   ],
   "source": [
    "df_continent"
   ]
  },
  {
   "cell_type": "code",
   "execution_count": 147,
   "id": "70ce39ee",
   "metadata": {},
   "outputs": [
    {
     "data": {
      "image/png": "[encoded data removed]",
      "text/plain": [
       "<Figure size 432x288 with 1 Axes>"
      ]
     },
     "metadata": {
      "needs_background": "light"
     },
     "output_type": "display_data"
    }
   ],
   "source": [
    "#Conitnent is stored to a seperate list in order to act them as an index as we dont have a index numer in the dataset here\n",
    "continent_names = df_continent.index.to_list()\n",
    "sns.lineplot(data= df_continent, x = \"Number_of_countries\", y = \"Production(Tons)\")\n",
    "plt.xticks(df_continent['Number_of_countries'], continent_names, rotation = 90)\n",
    "plt.show()"
   ]
  },
  {
   "cell_type": "code",
   "execution_count": null,
   "id": "0532d03c",
   "metadata": {},
   "outputs": [],
   "source": []
  },
  {
   "cell_type": "markdown",
   "id": "8347a29e",
   "metadata": {},
   "source": [
    "## Correlation for Continent"
   ]
  },
  {
   "cell_type": "code",
   "execution_count": 148,
   "id": "efee994b",
   "metadata": {},
   "outputs": [
    {
     "data": {
      "text/html": [
       "<div>\n",
       "<style scoped>\n",
       "    .dataframe tbody tr th:only-of-type {\n",
       "        vertical-align: middle;\n",
       "    }\n",
       "\n",
       "    .dataframe tbody tr th {\n",
       "        vertical-align: top;\n",
       "    }\n",
       "\n",
       "    .dataframe thead th {\n",
       "        text-align: right;\n",
       "    }\n",
       "</style>\n",
       "<table border=\"1\" class=\"dataframe\">\n",
       "  <thead>\n",
       "    <tr style=\"text-align: right;\">\n",
       "      <th></th>\n",
       "      <th>Production(Tons)</th>\n",
       "      <th>Production per Person (Kg)</th>\n",
       "      <th>Acreage (Hectare)</th>\n",
       "      <th>Yield (Kg / Hectare)</th>\n",
       "      <th>Number_of_countries</th>\n",
       "    </tr>\n",
       "  </thead>\n",
       "  <tbody>\n",
       "    <tr>\n",
       "      <th>Production(Tons)</th>\n",
       "      <td>1.000000</td>\n",
       "      <td>0.522211</td>\n",
       "      <td>0.994897</td>\n",
       "      <td>0.104312</td>\n",
       "      <td>0.109244</td>\n",
       "    </tr>\n",
       "    <tr>\n",
       "      <th>Production per Person (Kg)</th>\n",
       "      <td>0.522211</td>\n",
       "      <td>1.000000</td>\n",
       "      <td>0.463215</td>\n",
       "      <td>0.523627</td>\n",
       "      <td>0.540086</td>\n",
       "    </tr>\n",
       "    <tr>\n",
       "      <th>Acreage (Hectare)</th>\n",
       "      <td>0.994897</td>\n",
       "      <td>0.463215</td>\n",
       "      <td>1.000000</td>\n",
       "      <td>0.126764</td>\n",
       "      <td>0.132817</td>\n",
       "    </tr>\n",
       "    <tr>\n",
       "      <th>Yield (Kg / Hectare)</th>\n",
       "      <td>0.104312</td>\n",
       "      <td>0.523627</td>\n",
       "      <td>0.126764</td>\n",
       "      <td>1.000000</td>\n",
       "      <td>0.983807</td>\n",
       "    </tr>\n",
       "    <tr>\n",
       "      <th>Number_of_countries</th>\n",
       "      <td>0.109244</td>\n",
       "      <td>0.540086</td>\n",
       "      <td>0.132817</td>\n",
       "      <td>0.983807</td>\n",
       "      <td>1.000000</td>\n",
       "    </tr>\n",
       "  </tbody>\n",
       "</table>\n",
       "</div>"
      ],
      "text/plain": [
       "                            Production(Tons)  Production per Person (Kg)  \\\n",
       "Production(Tons)                    1.000000                    0.522211   \n",
       "Production per Person (Kg)          0.522211                    1.000000   \n",
       "Acreage (Hectare)                   0.994897                    0.463215   \n",
       "Yield (Kg / Hectare)                0.104312                    0.523627   \n",
       "Number_of_countries                 0.109244                    0.540086   \n",
       "\n",
       "                            Acreage (Hectare)  Yield (Kg / Hectare)  \\\n",
       "Production(Tons)                     0.994897              0.104312   \n",
       "Production per Person (Kg)           0.463215              0.523627   \n",
       "Acreage (Hectare)                    1.000000              0.126764   \n",
       "Yield (Kg / Hectare)                 0.126764              1.000000   \n",
       "Number_of_countries                  0.132817              0.983807   \n",
       "\n",
       "                            Number_of_countries  \n",
       "Production(Tons)                       0.109244  \n",
       "Production per Person (Kg)             0.540086  \n",
       "Acreage (Hectare)                      0.132817  \n",
       "Yield (Kg / Hectare)                   0.983807  \n",
       "Number_of_countries                    1.000000  "
      ]
     },
     "execution_count": 148,
     "metadata": {},
     "output_type": "execute_result"
    }
   ],
   "source": [
    "df_continent.corr()"
   ]
  },
  {
   "cell_type": "code",
   "execution_count": null,
   "id": "d9f8965a",
   "metadata": {},
   "outputs": [],
   "source": []
  },
  {
   "cell_type": "markdown",
   "id": "3701dad1",
   "metadata": {},
   "source": [
    "## Production Distribution by Continent"
   ]
  },
  {
   "cell_type": "code",
   "execution_count": 149,
   "id": "4534a428",
   "metadata": {},
   "outputs": [
    {
     "data": {
      "text/plain": [
       "<AxesSubplot:ylabel='Production(Tons)'>"
      ]
     },
     "execution_count": 149,
     "metadata": {},
     "output_type": "execute_result"
    },
    {
     "data": {
      "image/png": "[encoded data removed]",
      "text/plain": [
       "<Figure size 432x288 with 1 Axes>"
      ]
     },
     "metadata": {},
     "output_type": "display_data"
    }
   ],
   "source": [
    "df_continent[\"Production(Tons)\"].plot(kind = 'pie', autopct = '%.2f')"
   ]
  },
  {
   "cell_type": "code",
   "execution_count": null,
   "id": "e9843cc7",
   "metadata": {},
   "outputs": [],
   "source": [
    " "
   ]
  }
 ],
 "metadata": {
  "kernelspec": {
   "display_name": "Python 3 (ipykernel)",
   "language": "python",
   "name": "python3"
  },
  "language_info": {
   "codemirror_mode": {
    "name": "ipython",
    "version": 3
   },
   "file_extension": ".py",
   "mimetype": "text/x-python",
   "name": "python",
   "nbconvert_exporter": "python",
   "pygments_lexer": "ipython3",
   "version": "3.9.7"
  }
 },
 "nbformat": 4,
 "nbformat_minor": 5
}
